{
 "cells": [
  {
   "cell_type": "markdown",
   "metadata": {},
   "source": [
    "# Classificazione \n",
    "\n",
    "## binaria \n",
    "\n",
    "Prima di tutto importiamo le libreria che ci servono.\n",
    "Da notare l'uso della funzione make_blobs dalla libreria sklearn acikit-learn \n",
    "https://scikit-learn.org/stable/\n",
    "Si tratta di una delle librerie Python per machine learning più famose e usate."
   ]
  },
  {
   "cell_type": "code",
   "execution_count": 3,
   "metadata": {},
   "outputs": [],
   "source": [
    "from numpy import where\n",
    "from sklearn.datasets import make_blobs"
   ]
  },
  {
   "cell_type": "markdown",
   "metadata": {},
   "source": [
    "Creiamo un data set di 1000 campioni con 2 blob di dati.\n"
   ]
  },
  {
   "cell_type": "code",
   "execution_count": 4,
   "metadata": {},
   "outputs": [],
   "source": [
    "\n",
    "# define dataset\n",
    "X, y = make_blobs(n_samples=1000, centers=2, random_state=1)\n"
   ]
  },
  {
   "cell_type": "markdown",
   "metadata": {},
   "source": [
    "Il campione è composto da 2 caratteristiche (X array bidimensionale di 1000 righe e 2 colonne x1 e x2) e una etichetta y  che può essere 0 o 1 (es. maschio o femmina)"
   ]
  },
  {
   "cell_type": "code",
   "execution_count": 5,
   "metadata": {},
   "outputs": [
    {
     "name": "stdout",
     "output_type": "stream",
     "text": [
      "(1000, 2) (1000,)\n"
     ]
    },
    {
     "data": {
      "text/plain": [
       "array([[-3.05837272,  4.48825769],\n",
       "       [-8.60973869, -3.72714879],\n",
       "       [ 1.37129721,  5.23107449],\n",
       "       ...,\n",
       "       [-1.91854276,  4.59578307],\n",
       "       [-1.79600465,  4.28743568],\n",
       "       [-9.90967641, -4.69510878]])"
      ]
     },
     "execution_count": 5,
     "metadata": {},
     "output_type": "execute_result"
    }
   ],
   "source": [
    "print(X.shape, y.shape)\n",
    "X"
   ]
  },
  {
   "cell_type": "markdown",
   "metadata": {},
   "source": [
    "Per avere informazioni di conteggio su y (l'etichetta) possiamo usare l'oggetto Counter  della libreria collection."
   ]
  },
  {
   "cell_type": "code",
   "execution_count": 6,
   "metadata": {},
   "outputs": [
    {
     "name": "stdout",
     "output_type": "stream",
     "text": [
      "Counter()\n",
      "Counter({'A': 3, 'C': 2, 'B': 1})\n",
      "Counter({'A': 4, 'C': 3, 'B': 2})\n"
     ]
    }
   ],
   "source": [
    "\n",
    "from collections import Counter\n",
    "\n",
    "c = Counter()\n",
    "print(c)\n",
    "c.update(\"ABACAC\")\n",
    "print(c)\n",
    "c.update('ABC')\n",
    "print(c)"
   ]
  },
  {
   "cell_type": "markdown",
   "metadata": {},
   "source": [
    "Quindi il conteggio del nostro array di etichette Y "
   ]
  },
  {
   "cell_type": "code",
   "execution_count": 8,
   "metadata": {},
   "outputs": [
    {
     "name": "stdout",
     "output_type": "stream",
     "text": [
      "Counter({0: 500, 1: 500})\n"
     ]
    },
    {
     "data": {
      "text/plain": [
       "dict_items([(0, 500), (1, 500)])"
      ]
     },
     "execution_count": 8,
     "metadata": {},
     "output_type": "execute_result"
    }
   ],
   "source": [
    "counter = Counter(y)\n",
    "print(counter)\n",
    "counter.items()"
   ]
  },
  {
   "cell_type": "markdown",
   "metadata": {},
   "source": [
    "Mentre le prime 10 osservazioni del nostro campione sono le seguenti:"
   ]
  },
  {
   "cell_type": "code",
   "execution_count": 9,
   "metadata": {},
   "outputs": [
    {
     "name": "stdout",
     "output_type": "stream",
     "text": [
      "[-3.05837272  4.48825769] 0\n",
      "[-8.60973869 -3.72714879] 1\n",
      "[1.37129721 5.23107449] 0\n",
      "[-9.33917563 -2.9544469 ] 1\n",
      "[-11.57178593  -3.85275513] 1\n",
      "[-11.42257341  -4.85679127] 1\n",
      "[-10.44518578  -3.76476563] 1\n",
      "[-10.44603561  -3.26065964] 1\n",
      "[-0.61947075  3.48804983] 0\n",
      "[-10.91115591  -4.5772537 ] 1\n"
     ]
    }
   ],
   "source": [
    "for i in range(10):\n",
    "\tprint(X[i], y[i])"
   ]
  },
  {
   "cell_type": "markdown",
   "metadata": {},
   "source": [
    "Adesso possiamo vedere un grafico del campione generato usando la classe pyplot della libreria matplotlib"
   ]
  },
  {
   "cell_type": "code",
   "execution_count": 10,
   "metadata": {},
   "outputs": [
    {
     "data": {
      "image/png": "[encoded data removed]",
      "text/plain": [
       "<Figure size 432x288 with 1 Axes>"
      ]
     },
     "metadata": {
      "needs_background": "light"
     },
     "output_type": "display_data"
    }
   ],
   "source": [
    "from matplotlib import pyplot\n",
    "# grafica il dataset assegnando il colore del generico punto in base alla sua classe di appartenenza (=valore di y)\n",
    "for label, _ in counter.items():\n",
    "\trow_ix = where(y == label)[0]\n",
    "\tpyplot.scatter(X[row_ix, 0], X[row_ix, 1], label=str(label))\n",
    "pyplot.legend()\n",
    "pyplot.show()"
   ]
  },
  {
   "cell_type": "markdown",
   "metadata": {},
   "source": [
    "# multiclasse"
   ]
  },
  {
   "cell_type": "code",
   "execution_count": 11,
   "metadata": {},
   "outputs": [
    {
     "name": "stdout",
     "output_type": "stream",
     "text": [
      "(1000, 2) (1000,)\n",
      "Counter({0: 334, 1: 333, 2: 333})\n",
      "[-3.05837272  4.48825769] 0\n",
      "[-8.60973869 -3.72714879] 1\n",
      "[1.37129721 5.23107449] 0\n",
      "[-9.33917563 -2.9544469 ] 1\n",
      "[-8.63895561 -8.05263469] 2\n",
      "[-8.48974309 -9.05667083] 2\n",
      "[-7.51235546 -7.96464519] 2\n",
      "[-7.51320529 -7.46053919] 2\n",
      "[-0.61947075  3.48804983] 0\n",
      "[-10.91115591  -4.5772537 ] 1\n"
     ]
    },
    {
     "data": {
      "image/png": "[encoded data removed]",
      "text/plain": [
       "<Figure size 432x288 with 1 Axes>"
      ]
     },
     "metadata": {
      "needs_background": "light"
     },
     "output_type": "display_data"
    }
   ],
   "source": [
    "X, y = make_blobs(n_samples=1000, centers=3, random_state=1)\n",
    "\n",
    "print(X.shape, y.shape)\n",
    "\n",
    "counter = Counter(y)\n",
    "print(counter)\n",
    "\n",
    "for i in range(10):\n",
    "\tprint(X[i], y[i])\n",
    "\n",
    "for label, _ in counter.items():\n",
    "\trow_ix = where(y == label)[0]\n",
    "\tpyplot.scatter(X[row_ix, 0], X[row_ix, 1], label=str(label))\n",
    "pyplot.legend()\n",
    "pyplot.show()"
   ]
  },
  {
   "cell_type": "markdown",
   "metadata": {},
   "source": [
    "# Multietichetta"
   ]
  },
  {
   "cell_type": "code",
   "execution_count": 1,
   "metadata": {},
   "outputs": [
    {
     "name": "stdout",
     "output_type": "stream",
     "text": [
      "(1000, 2) (1000, 3)\n",
      "[18. 35.] [1 1 1]\n",
      "[22. 33.] [1 1 1]\n",
      "[26. 36.] [1 1 1]\n",
      "[24. 28.] [1 1 0]\n",
      "[23. 27.] [1 1 0]\n",
      "[15. 31.] [0 1 0]\n",
      "[20. 37.] [0 1 0]\n",
      "[18. 31.] [1 1 1]\n",
      "[29. 27.] [1 0 0]\n",
      "[29. 28.] [1 1 0]\n"
     ]
    }
   ],
   "source": [
    "\n",
    "\n",
    "from sklearn.datasets import make_multilabel_classification\n",
    "\n",
    "X, y = make_multilabel_classification(n_samples=1000, n_features=2, n_classes=3, n_labels=2, random_state=1)\n",
    "\n",
    "print(X.shape, y.shape)\n",
    "\n",
    "for i in range(10):\n",
    "\tprint(X[i], y[i])"
   ]
  }
 ],
 "metadata": {
  "kernelspec": {
   "display_name": "Python 3.9.5 64-bit",
   "language": "python",
   "name": "python3"
  },
  "language_info": {
   "codemirror_mode": {
    "name": "ipython",
    "version": 3
   },
   "file_extension": ".py",
   "mimetype": "text/x-python",
   "name": "python",
   "nbconvert_exporter": "python",
   "pygments_lexer": "ipython3",
   "version": "3.9.5"
  },
  "orig_nbformat": 4,
  "vscode": {
   "interpreter": {
    "hash": "81794d4967e6c3204c66dcd87b604927b115b27c00565d3d43f05ba2f3a2cb0d"
   }
  }
 },
 "nbformat": 4,
 "nbformat_minor": 2
}
