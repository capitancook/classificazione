{
 "cells": [
  {
   "cell_type": "code",
   "execution_count": 17,
   "metadata": {},
   "outputs": [],
   "source": [
    "from ipywidgets import interact\n",
    "from matplotlib import pyplot as plt\n",
    "import numpy as np\n",
    "import torch as torch\n",
    "from functools import partial\n",
    "\n",
    "plt.rc('figure', dpi=90)\n",
    "\n",
    "def plot_function(f, title=None, min=-2.1, max=2.1, color='r', ylim=None):\n",
    "    x = torch.linspace(min,max, 100)[:,None]\n",
    "    if ylim: plt.ylim(ylim)\n",
    "    plt.plot(x, f(x), color)\n",
    "    if title is not None: plt.title(title)"
   ]
  },
  {
   "cell_type": "markdown",
   "metadata": {},
   "source": [
    "# Regressione lineare (Predizione)\n",
    "\n",
    "Immaginiamo di avere dei dati di un fenomeno da studiare, ad esempio i dati sugli scontrini medi di un supermercato rispetto al reddito degli acquirenti.\n",
    "In questo caso i dati sono simulati.\n",
    "In particolare, li generiamo con una funzione lineare e gli aggiungiamo del rumore.\n"
   ]
  },
  {
   "cell_type": "code",
   "execution_count": 77,
   "metadata": {},
   "outputs": [
    {
     "data": {
      "image/png": "[encoded data removed]",
      "text/plain": [
       "<Figure size 540x360 with 1 Axes>"
      ]
     },
     "metadata": {
      "needs_background": "light"
     },
     "output_type": "display_data"
    }
   ],
   "source": [
    "def lf(a,b,x):\n",
    "    return a*x+b\n",
    "\n",
    "def make_lf(a,b): \n",
    "    return partial(lf,a,b)\n",
    "\n",
    "l= make_lf(0.1,0.5)\n",
    "plot_function(l)\n"
   ]
  },
  {
   "cell_type": "code",
   "execution_count": 78,
   "metadata": {},
   "outputs": [],
   "source": [
    "def noise(x, scale): return np.random.normal(scale=scale, size=x.shape)\n",
    "def add_noise(x, mult, add): return x * (1+noise(x,mult)) + noise(x,add)"
   ]
  },
  {
   "cell_type": "code",
   "execution_count": 79,
   "metadata": {},
   "outputs": [
    {
     "data": {
      "image/png": "[encoded data removed]",
      "text/plain": [
       "<Figure size 540x360 with 1 Axes>"
      ]
     },
     "metadata": {
      "needs_background": "light"
     },
     "output_type": "display_data"
    }
   ],
   "source": [
    "np.random.seed(42)\n",
    "\n",
    "x = torch.linspace(-2, 2, steps=20)[:,None]\n",
    "y = add_noise(l(x), 0.001, 0.1)\n",
    "plt.scatter(x,y)\n",
    "plot_function(l)"
   ]
  },
  {
   "cell_type": "markdown",
   "metadata": {},
   "source": [
    "Adesso, visti i dati disponibili ci chiediamo:\n",
    "Qual'è la retta che meglio approssima i dati che abbiamo?\n",
    "Trovata la retta, se ci sono motivi per credere che i dati hanno il trend trovato potremo prevedere l' scontrino medio y del cliente che si presenta con un novo reddito x.\n",
    "\n",
    "## interpolazione \"manuale\"\n",
    "\n",
    "Possiamo usare gli strumenti interattivi di Jupyter Notebook per cercare manualmente i due parametri della retta a e b che meglio approssimano i dati."
   ]
  },
  {
   "cell_type": "code",
   "execution_count": 83,
   "metadata": {},
   "outputs": [
    {
     "data": {
      "application/vnd.jupyter.widget-view+json": {
       "model_id": "f47d67beff9f4830a6a03d6da254e4d4",
       "version_major": 2,
       "version_minor": 0
      },
      "text/plain": [
       "interactive(children=(FloatSlider(value=0.0, description='a', max=0.5, min=-0.5), FloatSlider(value=0.5, descr…"
      ]
     },
     "metadata": {},
     "output_type": "display_data"
    }
   ],
   "source": [
    "@interact(a=(-0.5,0.5), b=.5)\n",
    "def plot_l(a, b):\n",
    "    plt.scatter(x,y)\n",
    "    plot_function(make_lf(a,b))"
   ]
  },
  {
   "cell_type": "markdown",
   "metadata": {},
   "source": [
    "Evidentemente, si puà riuscire a stimare i parametri della retta con i due slider.\n",
    "Ma, come possiamo misurare la bontà dell'approssimazione?\n",
    "Non sarebbe meglio avere un qualche indice numerico che ci dice quanto è buona l'approssimazione trovata?\n",
    "\n",
    "Possiamo provare a calcolare l'errore assoluto medio. Ovvero la media degli scarti assoluti degli scarti MSA\n"
   ]
  },
  {
   "cell_type": "code",
   "execution_count": 95,
   "metadata": {},
   "outputs": [],
   "source": [
    "def msa(predizione, attuale): return (torch.abs(predizione-attuale)).mean()"
   ]
  },
  {
   "cell_type": "markdown",
   "metadata": {},
   "source": [
    "Proviamo ad aggiungere questa informazione al grafico interattivo e vediamocome ci può aiutare nella nostra ricerca di a e b:"
   ]
  },
  {
   "cell_type": "code",
   "execution_count": 98,
   "metadata": {},
   "outputs": [
    {
     "data": {
      "application/vnd.jupyter.widget-view+json": {
       "model_id": "e514abc68f2d465d891bbbd70a016c75",
       "version_major": 2,
       "version_minor": 0
      },
      "text/plain": [
       "interactive(children=(FloatSlider(value=0.0, description='a', max=0.5, min=-0.5), FloatSlider(value=0.55, desc…"
      ]
     },
     "metadata": {},
     "output_type": "display_data"
    }
   ],
   "source": [
    "@interact(a=(-0.5,0.5), b=(0.0,1.1))\n",
    "def plot_l(a, b):\n",
    "    lf=make_lf(a,b)\n",
    "    plt.scatter(x,y)\n",
    "    scarto = msa(lf(x), y)\n",
    "    plot_function(lf, title=f\"MSA: {scarto:.2f}\")"
   ]
  },
  {
   "cell_type": "markdown",
   "metadata": {},
   "source": [
    "Grazie al nostro indici MSA siamo stati guidati verso i valori di a e b che rappresentano meglio il nostro dataset.\n",
    "Ci sono altri indici come la Media degli Scarti Assoluti.\n",
    "Ad esempio possiamo considerare lo Scarto Quadratico Medio"
   ]
  },
  {
   "cell_type": "code",
   "execution_count": null,
   "metadata": {},
   "outputs": [],
   "source": [
    "def msqm(predizione, attuale): return (torch.sqrt((predizione-attuale)**2)).mean()"
   ]
  }
 ],
 "metadata": {
  "kernelspec": {
   "display_name": "Python 3.9.5 64-bit",
   "language": "python",
   "name": "python3"
  },
  "language_info": {
   "codemirror_mode": {
    "name": "ipython",
    "version": 3
   },
   "file_extension": ".py",
   "mimetype": "text/x-python",
   "name": "python",
   "nbconvert_exporter": "python",
   "pygments_lexer": "ipython3",
   "version": "3.9.5"
  },
  "orig_nbformat": 4,
  "vscode": {
   "interpreter": {
    "hash": "81794d4967e6c3204c66dcd87b604927b115b27c00565d3d43f05ba2f3a2cb0d"
   }
  }
 },
 "nbformat": 4,
 "nbformat_minor": 2
}
